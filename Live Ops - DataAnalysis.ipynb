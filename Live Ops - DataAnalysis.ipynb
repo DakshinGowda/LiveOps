{
 "cells": [
  {
   "cell_type": "markdown",
   "id": "08d38ec3",
   "metadata": {},
   "source": [
    "## Business Objectives"
   ]
  },
  {
   "cell_type": "markdown",
   "id": "aed00033",
   "metadata": {},
   "source": [
    "The LiveOps team in SWVL manages the day to day ride monitoring and ride saving activities for all the\n",
    "markets across the globe. There are agents in the LiveOps team that call captains every day before the ride\n",
    "with periodic intervals i.e. 60 mins prior, 45 mins prior and 30 mins prior to the ride to ensure that captains are\n",
    "aware of their next ride(s) and have confirmed the ride on the app so customer have the assurance that they\n",
    "will be taken to their desired destinations.\n",
    "\n",
    "This case study aims to identify patterns which indicate - \n",
    "\n",
    "\n",
    "        ● Reducing the direct relationship between scalability of business with agent headcount.\n",
    "        ● Increasing the success rate of calls on T-60, T-45, and T-30 intervals.\n",
    "        ● Developing strategies to reduce ride cancellations and increase ride confirmations through app i.e.\n",
    "          Ride_Confirmation_Status to be Captain thru App."
   ]
  },
  {
   "cell_type": "code",
   "execution_count": 1,
   "id": "a9f5c9e6",
   "metadata": {},
   "outputs": [],
   "source": [
    "import numpy as np\n",
    "import pandas as pd\n",
    "from datetime import datetime\n",
    "import matplotlib.pyplot as plt\n",
    "import seaborn as sns\n",
    "%matplotlib inline"
   ]
  },
  {
   "cell_type": "code",
   "execution_count": 2,
   "id": "e2ab60f4",
   "metadata": {},
   "outputs": [],
   "source": [
    "# Supress warnings\n",
    "import warnings \n",
    "warnings.filterwarnings('ignore')"
   ]
  },
  {
   "cell_type": "code",
   "execution_count": 3,
   "id": "bf48b022",
   "metadata": {},
   "outputs": [],
   "source": [
    "pd.set_option('display.max_rows', 100)\n",
    "pd.set_option('display.max_columns',100)"
   ]
  },
  {
   "cell_type": "code",
   "execution_count": 4,
   "id": "7bf46363",
   "metadata": {},
   "outputs": [
    {
     "data": {
      "text/html": [
       "<div>\n",
       "<style scoped>\n",
       "    .dataframe tbody tr th:only-of-type {\n",
       "        vertical-align: middle;\n",
       "    }\n",
       "\n",
       "    .dataframe tbody tr th {\n",
       "        vertical-align: top;\n",
       "    }\n",
       "\n",
       "    .dataframe thead th {\n",
       "        text-align: right;\n",
       "    }\n",
       "</style>\n",
       "<table border=\"1\" class=\"dataframe\">\n",
       "  <thead>\n",
       "    <tr style=\"text-align: right;\">\n",
       "      <th></th>\n",
       "      <th>Ride_ID</th>\n",
       "      <th>Ride_Date</th>\n",
       "      <th>Week_Num</th>\n",
       "      <th>Vertical</th>\n",
       "      <th>Captain_ID</th>\n",
       "      <th>City_Name</th>\n",
       "      <th>Calling Agent</th>\n",
       "      <th>T-60 Mins Call Status</th>\n",
       "      <th>T-45 Mins Call Status</th>\n",
       "      <th>T-30 Mins Call Status</th>\n",
       "      <th>Ride_Confirmation_Status</th>\n",
       "      <th>Ride_Status</th>\n",
       "      <th>Cancellation_Reason</th>\n",
       "    </tr>\n",
       "  </thead>\n",
       "  <tbody>\n",
       "    <tr>\n",
       "      <th>0</th>\n",
       "      <td>Ride No. 1</td>\n",
       "      <td>2021-07-02</td>\n",
       "      <td>27.0</td>\n",
       "      <td>business</td>\n",
       "      <td>Captain 1</td>\n",
       "      <td>Prague</td>\n",
       "      <td>Agent 5</td>\n",
       "      <td>Confirmed</td>\n",
       "      <td>Not Confirmed</td>\n",
       "      <td>Confirmed</td>\n",
       "      <td>Agent</td>\n",
       "      <td>completed</td>\n",
       "      <td>NaN</td>\n",
       "    </tr>\n",
       "    <tr>\n",
       "      <th>1</th>\n",
       "      <td>Ride No. 2</td>\n",
       "      <td>2021-07-27</td>\n",
       "      <td>31.0</td>\n",
       "      <td>business</td>\n",
       "      <td>Captain 1</td>\n",
       "      <td>Prague</td>\n",
       "      <td>Agent 8</td>\n",
       "      <td>Not Confirmed</td>\n",
       "      <td>Confirmed</td>\n",
       "      <td>Confirmed</td>\n",
       "      <td>Agent</td>\n",
       "      <td>completed</td>\n",
       "      <td>NaN</td>\n",
       "    </tr>\n",
       "  </tbody>\n",
       "</table>\n",
       "</div>"
      ],
      "text/plain": [
       "      Ride_ID  Ride_Date  Week_Num  Vertical Captain_ID City_Name  \\\n",
       "0  Ride No. 1 2021-07-02      27.0  business  Captain 1    Prague   \n",
       "1  Ride No. 2 2021-07-27      31.0  business  Captain 1    Prague   \n",
       "\n",
       "  Calling Agent T-60 Mins Call Status T-45 Mins Call Status  \\\n",
       "0       Agent 5             Confirmed         Not Confirmed   \n",
       "1       Agent 8         Not Confirmed             Confirmed   \n",
       "\n",
       "  T-30 Mins Call Status Ride_Confirmation_Status Ride_Status  \\\n",
       "0             Confirmed                    Agent   completed   \n",
       "1             Confirmed                    Agent   completed   \n",
       "\n",
       "  Cancellation_Reason  \n",
       "0                 NaN  \n",
       "1                 NaN  "
      ]
     },
     "execution_count": 4,
     "metadata": {},
     "output_type": "execute_result"
    }
   ],
   "source": [
    "df = pd.read_excel('Live Ops Case Study.xlsx')\n",
    "df.head(2)"
   ]
  },
  {
   "cell_type": "code",
   "execution_count": 5,
   "id": "3656d316",
   "metadata": {},
   "outputs": [
    {
     "data": {
      "text/plain": [
       "(30810, 13)"
      ]
     },
     "execution_count": 5,
     "metadata": {},
     "output_type": "execute_result"
    }
   ],
   "source": [
    "df.shape"
   ]
  },
  {
   "cell_type": "code",
   "execution_count": 6,
   "id": "2b1a7191",
   "metadata": {},
   "outputs": [
    {
     "name": "stdout",
     "output_type": "stream",
     "text": [
      "<class 'pandas.core.frame.DataFrame'>\n",
      "RangeIndex: 30810 entries, 0 to 30809\n",
      "Data columns (total 13 columns):\n",
      " #   Column                    Non-Null Count  Dtype         \n",
      "---  ------                    --------------  -----         \n",
      " 0   Ride_ID                   30810 non-null  object        \n",
      " 1   Ride_Date                 30810 non-null  datetime64[ns]\n",
      " 2   Week_Num                  30810 non-null  float64       \n",
      " 3   Vertical                  30810 non-null  object        \n",
      " 4   Captain_ID                30809 non-null  object        \n",
      " 5   City_Name                 30810 non-null  object        \n",
      " 6   Calling Agent             30810 non-null  object        \n",
      " 7   T-60 Mins Call Status     30810 non-null  object        \n",
      " 8   T-45 Mins Call Status     30810 non-null  object        \n",
      " 9   T-30 Mins Call Status     30810 non-null  object        \n",
      " 10  Ride_Confirmation_Status  27744 non-null  object        \n",
      " 11  Ride_Status               30810 non-null  object        \n",
      " 12  Cancellation_Reason       3281 non-null   object        \n",
      "dtypes: datetime64[ns](1), float64(1), object(11)\n",
      "memory usage: 3.1+ MB\n"
     ]
    }
   ],
   "source": [
    "df.info()"
   ]
  },
  {
   "cell_type": "markdown",
   "id": "4ae939a3",
   "metadata": {},
   "source": [
    "### Handling missing values"
   ]
  },
  {
   "cell_type": "code",
   "execution_count": 7,
   "id": "d37f0477",
   "metadata": {},
   "outputs": [],
   "source": [
    "'''As ride status is complete , we will impute reason for cancellation with -1'''\n",
    "df['Cancellation_Reason'].fillna('-1', inplace=True)"
   ]
  },
  {
   "cell_type": "code",
   "execution_count": 8,
   "id": "5faa2dfc",
   "metadata": {},
   "outputs": [],
   "source": [
    "df['Ride_Confirmation_Status'].fillna(df['Ride_Confirmation_Status'].mode()[0], inplace=True)"
   ]
  },
  {
   "cell_type": "code",
   "execution_count": 9,
   "id": "b691ff67",
   "metadata": {},
   "outputs": [],
   "source": [
    "df[df['Captain_ID'].isnull()]\n",
    "df['Captain_ID'] = df['Captain_ID'].replace(np.nan,'Captain 358')"
   ]
  },
  {
   "cell_type": "markdown",
   "id": "bf05a244",
   "metadata": {},
   "source": [
    "### Data Pre-Processing"
   ]
  },
  {
   "cell_type": "code",
   "execution_count": 10,
   "id": "3b95722a",
   "metadata": {},
   "outputs": [],
   "source": [
    "'''Mapping the features'''\n",
    "\n",
    "df['Week_Num'] = df['Week_Num'].replace({27.0 : '1', 28.0 : '2', 29.0 : '3', 30.0 : '4',\n",
    "                                         31.0 : '5', 32.0 : '6', 33.0 : '7', 34.0 : '8', 35.0 : '9'})\n",
    "df['T-60 Mins Call Status'] = df['T-60 Mins Call Status'].map({'Confirmed' : 1, 'Not Confirmed' : 0})\n",
    "df['T-45 Mins Call Status'] = df['T-45 Mins Call Status'].map({'Confirmed' : 1, 'Not Confirmed' : 0})\n",
    "df['T-30 Mins Call Status'] = df['T-30 Mins Call Status'].map({'Confirmed' : 1, 'Not Confirmed' : 0})\n",
    "df['Ride_Status'] = df['Ride_Status'].map({'completed' : 1,'cancelled' : 0})"
   ]
  },
  {
   "cell_type": "markdown",
   "id": "6006a75d",
   "metadata": {},
   "source": [
    "### Feature Engineering"
   ]
  },
  {
   "cell_type": "code",
   "execution_count": 11,
   "id": "cb034c39",
   "metadata": {},
   "outputs": [
    {
     "data": {
      "text/html": [
       "<div>\n",
       "<style scoped>\n",
       "    .dataframe tbody tr th:only-of-type {\n",
       "        vertical-align: middle;\n",
       "    }\n",
       "\n",
       "    .dataframe tbody tr th {\n",
       "        vertical-align: top;\n",
       "    }\n",
       "\n",
       "    .dataframe thead th {\n",
       "        text-align: right;\n",
       "    }\n",
       "</style>\n",
       "<table border=\"1\" class=\"dataframe\">\n",
       "  <thead>\n",
       "    <tr style=\"text-align: right;\">\n",
       "      <th></th>\n",
       "      <th>Day</th>\n",
       "    </tr>\n",
       "  </thead>\n",
       "  <tbody>\n",
       "    <tr>\n",
       "      <th>0</th>\n",
       "      <td>2 days</td>\n",
       "    </tr>\n",
       "    <tr>\n",
       "      <th>1</th>\n",
       "      <td>27 days</td>\n",
       "    </tr>\n",
       "    <tr>\n",
       "      <th>2</th>\n",
       "      <td>56 days</td>\n",
       "    </tr>\n",
       "    <tr>\n",
       "      <th>3</th>\n",
       "      <td>6 days</td>\n",
       "    </tr>\n",
       "    <tr>\n",
       "      <th>4</th>\n",
       "      <td>17 days</td>\n",
       "    </tr>\n",
       "  </tbody>\n",
       "</table>\n",
       "</div>"
      ],
      "text/plain": [
       "      Day\n",
       "0  2 days\n",
       "1 27 days\n",
       "2 56 days\n",
       "3  6 days\n",
       "4 17 days"
      ]
     },
     "execution_count": 11,
     "metadata": {},
     "output_type": "execute_result"
    }
   ],
   "source": [
    "from datetime import datetime\n",
    "\n",
    "date_entry = '2021-06-30'\n",
    "year, month, day = map(int, date_entry.split('-'))\n",
    "d0 = datetime(year, month, day)\n",
    "d1 = df['Ride_Date']\n",
    "delta = d1 - d0\n",
    "df['Day']= delta\n",
    "df[[\"Day\"]].head()"
   ]
  },
  {
   "cell_type": "code",
   "execution_count": 12,
   "id": "bc359e11",
   "metadata": {},
   "outputs": [],
   "source": [
    "# Cleaning Days \n",
    "df['Day'] = df['Day'].astype(str)\n",
    "df['Day'] = df['Day'].map(lambda x: x[0:2])\n",
    "df['Day'] = df['Day'].astype(int)"
   ]
  },
  {
   "cell_type": "code",
   "execution_count": 13,
   "id": "20271167",
   "metadata": {},
   "outputs": [],
   "source": [
    "df['Month'] = pd.DatetimeIndex(df['Ride_Date']).month"
   ]
  },
  {
   "cell_type": "code",
   "execution_count": 14,
   "id": "c173c5f9",
   "metadata": {},
   "outputs": [],
   "source": [
    "# Weekdays are taken such that 1 corresponds to Sunday and 7 to Saturday\n",
    "# Generate the weekday feature\n",
    "df['Weekday'] = (df['Day']+4)%7\n",
    "df['Weekday'].replace(0,7, inplace=True)\n",
    "df['Weekday'] = df['Weekday'].astype(int)"
   ]
  },
  {
   "cell_type": "code",
   "execution_count": 15,
   "id": "6d2738d3",
   "metadata": {},
   "outputs": [],
   "source": [
    "df['Call_status'] = df['T-60 Mins Call Status'] + df['T-45 Mins Call Status'] + df['T-30 Mins Call Status']\n",
    "df['Call_status'] = df['Call_status'].map(lambda x: 'Yes' if x>1 else 'No')"
   ]
  },
  {
   "cell_type": "code",
   "execution_count": 16,
   "id": "39f8907a",
   "metadata": {},
   "outputs": [
    {
     "data": {
      "text/plain": [
       "array(['0', '1'], dtype=object)"
      ]
     },
     "execution_count": 16,
     "metadata": {},
     "output_type": "execute_result"
    }
   ],
   "source": [
    "'''Create a weekend feature'''\n",
    "def f(x):\n",
    "    if x==3 or x==4: return '1'\n",
    "    else: return '0'\n",
    "    \n",
    "df['Weekend'] = np.vectorize(f)(df['Weekday'])\n",
    "\n",
    "df['Weekend'].unique()  #unique values"
   ]
  },
  {
   "cell_type": "markdown",
   "id": "c1187c7e",
   "metadata": {},
   "source": [
    "### EDA"
   ]
  },
  {
   "cell_type": "code",
   "execution_count": 17,
   "id": "650f33d5",
   "metadata": {},
   "outputs": [
    {
     "data": {
      "image/png": "[encoded data removed]",
      "text/plain": [
       "<Figure size 576x288 with 1 Axes>"
      ]
     },
     "metadata": {
      "needs_background": "light"
     },
     "output_type": "display_data"
    }
   ],
   "source": [
    "'''Trend analysis'''\n",
    "x = df['Week_Num'].value_counts()\n",
    "x.sort_index().plot(figsize=(8, 4))\n",
    "plt.ylabel('Number of rides')\n",
    "plt.xlabel('Week')\n",
    "plt.show()"
   ]
  },
  {
   "cell_type": "markdown",
   "id": "7015c0f0",
   "metadata": {},
   "source": [
    "<b>Inference :</b>\n",
    "\n",
    "             * The overall trend of goes upwards. Here, we have to take look of the dip at the end of week 4."
   ]
  },
  {
   "cell_type": "code",
   "execution_count": 18,
   "id": "6ae8fe33",
   "metadata": {},
   "outputs": [
    {
     "data": {
      "text/plain": [
       "-1                         3292\n",
       "planning_issue              152\n",
       "leave_excuse                108\n",
       "captain_churned             101\n",
       "low_utilized_rides           20\n",
       "dispatchment_issue           17\n",
       "terminated                   12\n",
       "absence                      11\n",
       "inride_issue                 10\n",
       "internet_unavailability       3\n",
       "payment_issue                 2\n",
       "unprofessional_attitude       1\n",
       "transfer_only                 1\n",
       "saving_important_ride         1\n",
       "Name: Cancellation_Reason, dtype: int64"
      ]
     },
     "metadata": {},
     "output_type": "display_data"
    },
    {
     "data": {
      "text/plain": [
       "-1                         1575\n",
       "low_utilized_rides          322\n",
       "planning_issue              292\n",
       "leave_excuse                 33\n",
       "dispatchment_issue           13\n",
       "absence                      12\n",
       "accident                      4\n",
       "internet_unavailability       2\n",
       "inride_issue                  2\n",
       "Name: Cancellation_Reason, dtype: int64"
      ]
     },
     "metadata": {},
     "output_type": "display_data"
    }
   ],
   "source": [
    "'''Week 4- Analysis'''\n",
    "week4 = df[df['Week_Num'] == '4']\n",
    "week3 = df[df['Week_Num'] == '3']\n",
    "\n",
    "w3_reason = week3['Cancellation_Reason'].value_counts()\n",
    "w4_reason = week4['Cancellation_Reason'].value_counts()\n",
    "display(w3_reason,w4_reason)"
   ]
  },
  {
   "cell_type": "code",
   "execution_count": 19,
   "id": "1030da82",
   "metadata": {},
   "outputs": [
    {
     "name": "stdout",
     "output_type": "stream",
     "text": [
      " Reason for cancellation \n"
     ]
    },
    {
     "data": {
      "image/png": "[encoded data removed]",
      "text/plain": [
       "<Figure size 1008x288 with 2 Axes>"
      ]
     },
     "metadata": {
      "needs_background": "light"
     },
     "output_type": "display_data"
    }
   ],
   "source": [
    "print(' Reason for cancellation ')\n",
    "fig, (ax1, ax2) = plt.subplots(figsize=[14,4], ncols=2, sharey=True)\n",
    "w3_reason.plot(kind='barh', ax=ax1)\n",
    "ax1.title.set_text('week3')\n",
    "w4_reason.plot(kind='barh', ax=ax2)\n",
    "ax2.title.set_text('week4')\n",
    "plt.show()"
   ]
  },
  {
   "cell_type": "markdown",
   "id": "f7fa5616",
   "metadata": {},
   "source": [
    "<b>Inference : </b>\n",
    "\n",
    "             * We can see that, total number of successful rides are reduced by 50%\n",
    "             * The low utilization rides are much greater.\n",
    "             * We conclude cause of dip may be due to an environmental issues(i.e COVID19 lockdown) or festival week."
   ]
  },
  {
   "cell_type": "code",
   "execution_count": 20,
   "id": "f4daacda",
   "metadata": {},
   "outputs": [
    {
     "data": {
      "text/plain": [
       "business    1891\n",
       "regular     1755\n",
       "travel        85\n",
       "Name: Vertical, dtype: int64"
      ]
     },
     "metadata": {},
     "output_type": "display_data"
    },
    {
     "data": {
      "text/plain": [
       "business    1703\n",
       "regular      502\n",
       "travel        50\n",
       "Name: Vertical, dtype: int64"
      ]
     },
     "metadata": {},
     "output_type": "display_data"
    },
    {
     "data": {
      "image/png": "[encoded data removed]",
      "text/plain": [
       "<Figure size 1008x288 with 2 Axes>"
      ]
     },
     "metadata": {
      "needs_background": "light"
     },
     "output_type": "display_data"
    }
   ],
   "source": [
    "'''Analyse week3 and week4 based on type of customers'''\n",
    "w3_occupation = week3['Vertical'].value_counts()\n",
    "w4_occupation = week4['Vertical'].value_counts()\n",
    "\n",
    "display(w3_occupation, w4_occupation)\n",
    "fig, (ax1, ax2) = plt.subplots(figsize=[14,4], ncols=2, sharey=True)\n",
    "w3_occupation.plot(kind='barh', ax=ax1)\n",
    "ax1.title.set_text('week3')\n",
    "w4_occupation.plot(kind='barh', ax=ax2)\n",
    "ax2.title.set_text('week4')\n",
    "plt.show()"
   ]
  },
  {
   "cell_type": "code",
   "execution_count": 21,
   "id": "a76931ad",
   "metadata": {},
   "outputs": [
    {
     "data": {
      "image/png": "[encoded data removed]",
      "text/plain": [
       "<Figure size 1008x288 with 2 Axes>"
      ]
     },
     "metadata": {
      "needs_background": "light"
     },
     "output_type": "display_data"
    }
   ],
   "source": [
    "fig, (ax1, ax2) = plt.subplots(figsize=[14,4], ncols=2, sharey=True)\n",
    "ax1 = pd.crosstab(week3['Ride_Status'], week3['Vertical']).plot(kind='bar', stacked=False, ax=ax1)\n",
    "ax2 = pd.crosstab(week4['Ride_Status'], week4['Vertical']).plot(kind='bar', stacked=False, ax=ax2)\n",
    "plt.show()"
   ]
  },
  {
   "cell_type": "markdown",
   "id": "b6e597b2",
   "metadata": {},
   "source": [
    "Now we have to analyse the reason behind ride cancellation with good call success rate. As this would help company to overcome the revenue dip."
   ]
  },
  {
   "cell_type": "code",
   "execution_count": 22,
   "id": "338ee2c5",
   "metadata": {},
   "outputs": [
    {
     "data": {
      "text/plain": [
       "Ride_Confirmation_Status  Cancellation_Reason    \n",
       "Agent                     Captain_churned             1.591512\n",
       "                          absence                     2.766199\n",
       "                          accident                    0.227359\n",
       "                          captain_churned            10.837438\n",
       "                          captain_was_late            0.037893\n",
       "                          dispatchment_issue          4.812429\n",
       "                          inride_issue                1.553619\n",
       "                          internet_unavailability     0.719970\n",
       "                          lack_diligence              0.037893\n",
       "                          leave_excuse               13.262599\n",
       "                          lost_stolen_mobile          0.037893\n",
       "                          low_utilized_rides         19.325502\n",
       "                          payment_issue               0.227359\n",
       "                          planning_issue             42.288746\n",
       "                          police_issue                0.113679\n",
       "                          riots_demonstrations        0.378931\n",
       "                          terminated                  0.378931\n",
       "                          transfer_only               0.644183\n",
       "Captain thru App          absence                     0.113679\n",
       "                          internet_unavailability     0.227359\n",
       "                          low_utilized_rides          0.113679\n",
       "                          planning_issue              0.189466\n",
       "                          riots_demonstrations        0.075786\n",
       "                          transfer_only               0.037893\n",
       "dtype: float64"
      ]
     },
     "execution_count": 22,
     "metadata": {},
     "output_type": "execute_result"
    }
   ],
   "source": [
    "'''Percentage of ride cancellation through agent/captain thru app for successful call status in period of 30, 45, 60mins'''\n",
    "df_new = df[['Ride_Confirmation_Status','Cancellation_Reason']] [(df['Ride_Status']==0) & (df['Call_status']=='Yes')].value_counts(normalize=True)*100\n",
    "df_new.sort_index()"
   ]
  },
  {
   "cell_type": "markdown",
   "id": "0f260c07",
   "metadata": {},
   "source": [
    "<b>Inference : </b>\n",
    "\n",
    "             * Information regarding captain's churn would be helpful make an alternative decision and lead to increase in\n",
    "               successful ride by 2%\n",
    "             * As planning issue is one of the main reason. So, imposing a minimum fine during next ride.\n",
    "             * Vehicle maintainance need to be supervised regularly."
   ]
  },
  {
   "cell_type": "markdown",
   "id": "232eda3a",
   "metadata": {},
   "source": [
    "From Business point of view, it's necessary to check the performance of our captains/drivers and calling agent.\n",
    "Hence, this will be helpful in formulating the feedback."
   ]
  },
  {
   "cell_type": "code",
   "execution_count": 23,
   "id": "0588e158",
   "metadata": {},
   "outputs": [
    {
     "name": "stdout",
     "output_type": "stream",
     "text": [
      "There are 358 unique captains.\n"
     ]
    },
    {
     "data": {
      "text/html": [
       "<div>\n",
       "<style scoped>\n",
       "    .dataframe tbody tr th:only-of-type {\n",
       "        vertical-align: middle;\n",
       "    }\n",
       "\n",
       "    .dataframe tbody tr th {\n",
       "        vertical-align: top;\n",
       "    }\n",
       "\n",
       "    .dataframe thead th {\n",
       "        text-align: right;\n",
       "    }\n",
       "</style>\n",
       "<table border=\"1\" class=\"dataframe\">\n",
       "  <thead>\n",
       "    <tr style=\"text-align: right;\">\n",
       "      <th>Captain_ID</th>\n",
       "      <th>Captain 1</th>\n",
       "      <th>Captain 10</th>\n",
       "      <th>Captain 100</th>\n",
       "      <th>Captain 101</th>\n",
       "      <th>Captain 102</th>\n",
       "      <th>Captain 103</th>\n",
       "      <th>Captain 104</th>\n",
       "      <th>Captain 105</th>\n",
       "      <th>Captain 106</th>\n",
       "      <th>Captain 107</th>\n",
       "      <th>Captain 108</th>\n",
       "      <th>Captain 109</th>\n",
       "      <th>Captain 11</th>\n",
       "      <th>Captain 110</th>\n",
       "      <th>Captain 111</th>\n",
       "      <th>Captain 112</th>\n",
       "      <th>Captain 113</th>\n",
       "      <th>Captain 114</th>\n",
       "      <th>Captain 115</th>\n",
       "      <th>Captain 116</th>\n",
       "      <th>Captain 117</th>\n",
       "      <th>Captain 118</th>\n",
       "      <th>Captain 119</th>\n",
       "      <th>Captain 12</th>\n",
       "      <th>Captain 120</th>\n",
       "      <th>Captain 121</th>\n",
       "      <th>Captain 122</th>\n",
       "      <th>Captain 123</th>\n",
       "      <th>Captain 124</th>\n",
       "      <th>Captain 125</th>\n",
       "      <th>Captain 126</th>\n",
       "      <th>Captain 127</th>\n",
       "      <th>Captain 128</th>\n",
       "      <th>Captain 129</th>\n",
       "      <th>Captain 13</th>\n",
       "      <th>Captain 130</th>\n",
       "      <th>Captain 131</th>\n",
       "      <th>Captain 132</th>\n",
       "      <th>Captain 133</th>\n",
       "      <th>Captain 134</th>\n",
       "      <th>Captain 135</th>\n",
       "      <th>Captain 136</th>\n",
       "      <th>Captain 137</th>\n",
       "      <th>Captain 138</th>\n",
       "      <th>Captain 139</th>\n",
       "      <th>Captain 14</th>\n",
       "      <th>Captain 140</th>\n",
       "      <th>Captain 141</th>\n",
       "      <th>Captain 142</th>\n",
       "      <th>Captain 143</th>\n",
       "      <th>...</th>\n",
       "      <th>Captain 54</th>\n",
       "      <th>Captain 55</th>\n",
       "      <th>Captain 56</th>\n",
       "      <th>Captain 57</th>\n",
       "      <th>Captain 58</th>\n",
       "      <th>Captain 59</th>\n",
       "      <th>Captain 6</th>\n",
       "      <th>Captain 60</th>\n",
       "      <th>Captain 61</th>\n",
       "      <th>Captain 62</th>\n",
       "      <th>Captain 63</th>\n",
       "      <th>Captain 64</th>\n",
       "      <th>Captain 65</th>\n",
       "      <th>Captain 66</th>\n",
       "      <th>Captain 67</th>\n",
       "      <th>Captain 68</th>\n",
       "      <th>Captain 69</th>\n",
       "      <th>Captain 7</th>\n",
       "      <th>Captain 70</th>\n",
       "      <th>Captain 71</th>\n",
       "      <th>Captain 72</th>\n",
       "      <th>Captain 73</th>\n",
       "      <th>Captain 74</th>\n",
       "      <th>Captain 75</th>\n",
       "      <th>Captain 76</th>\n",
       "      <th>Captain 77</th>\n",
       "      <th>Captain 78</th>\n",
       "      <th>Captain 79</th>\n",
       "      <th>Captain 8</th>\n",
       "      <th>Captain 80</th>\n",
       "      <th>Captain 81</th>\n",
       "      <th>Captain 82</th>\n",
       "      <th>Captain 83</th>\n",
       "      <th>Captain 84</th>\n",
       "      <th>Captain 85</th>\n",
       "      <th>Captain 86</th>\n",
       "      <th>Captain 87</th>\n",
       "      <th>Captain 88</th>\n",
       "      <th>Captain 89</th>\n",
       "      <th>Captain 9</th>\n",
       "      <th>Captain 90</th>\n",
       "      <th>Captain 91</th>\n",
       "      <th>Captain 92</th>\n",
       "      <th>Captain 93</th>\n",
       "      <th>Captain 94</th>\n",
       "      <th>Captain 95</th>\n",
       "      <th>Captain 96</th>\n",
       "      <th>Captain 97</th>\n",
       "      <th>Captain 98</th>\n",
       "      <th>Captain 99</th>\n",
       "    </tr>\n",
       "  </thead>\n",
       "  <tbody>\n",
       "    <tr>\n",
       "      <th>Ride_Status</th>\n",
       "      <td>125</td>\n",
       "      <td>281</td>\n",
       "      <td>409</td>\n",
       "      <td>234</td>\n",
       "      <td>57</td>\n",
       "      <td>57</td>\n",
       "      <td>46</td>\n",
       "      <td>143</td>\n",
       "      <td>52</td>\n",
       "      <td>54</td>\n",
       "      <td>175</td>\n",
       "      <td>34</td>\n",
       "      <td>195</td>\n",
       "      <td>38</td>\n",
       "      <td>11</td>\n",
       "      <td>48</td>\n",
       "      <td>28</td>\n",
       "      <td>30</td>\n",
       "      <td>14</td>\n",
       "      <td>90</td>\n",
       "      <td>399</td>\n",
       "      <td>50</td>\n",
       "      <td>180</td>\n",
       "      <td>162</td>\n",
       "      <td>51</td>\n",
       "      <td>55</td>\n",
       "      <td>53</td>\n",
       "      <td>54</td>\n",
       "      <td>52</td>\n",
       "      <td>119</td>\n",
       "      <td>8</td>\n",
       "      <td>169</td>\n",
       "      <td>84</td>\n",
       "      <td>21</td>\n",
       "      <td>146</td>\n",
       "      <td>132</td>\n",
       "      <td>142</td>\n",
       "      <td>44</td>\n",
       "      <td>119</td>\n",
       "      <td>136</td>\n",
       "      <td>97</td>\n",
       "      <td>132</td>\n",
       "      <td>31</td>\n",
       "      <td>34</td>\n",
       "      <td>115</td>\n",
       "      <td>211</td>\n",
       "      <td>128</td>\n",
       "      <td>74</td>\n",
       "      <td>140</td>\n",
       "      <td>108</td>\n",
       "      <td>...</td>\n",
       "      <td>17</td>\n",
       "      <td>173</td>\n",
       "      <td>189</td>\n",
       "      <td>7</td>\n",
       "      <td>131</td>\n",
       "      <td>94</td>\n",
       "      <td>381</td>\n",
       "      <td>98</td>\n",
       "      <td>99</td>\n",
       "      <td>11</td>\n",
       "      <td>128</td>\n",
       "      <td>152</td>\n",
       "      <td>86</td>\n",
       "      <td>166</td>\n",
       "      <td>15</td>\n",
       "      <td>75</td>\n",
       "      <td>111</td>\n",
       "      <td>232</td>\n",
       "      <td>31</td>\n",
       "      <td>43</td>\n",
       "      <td>44</td>\n",
       "      <td>42</td>\n",
       "      <td>152</td>\n",
       "      <td>231</td>\n",
       "      <td>173</td>\n",
       "      <td>273</td>\n",
       "      <td>88</td>\n",
       "      <td>54</td>\n",
       "      <td>19</td>\n",
       "      <td>88</td>\n",
       "      <td>71</td>\n",
       "      <td>67</td>\n",
       "      <td>74</td>\n",
       "      <td>39</td>\n",
       "      <td>39</td>\n",
       "      <td>33</td>\n",
       "      <td>90</td>\n",
       "      <td>52</td>\n",
       "      <td>38</td>\n",
       "      <td>348</td>\n",
       "      <td>220</td>\n",
       "      <td>90</td>\n",
       "      <td>89</td>\n",
       "      <td>184</td>\n",
       "      <td>344</td>\n",
       "      <td>209</td>\n",
       "      <td>333</td>\n",
       "      <td>274</td>\n",
       "      <td>55</td>\n",
       "      <td>201</td>\n",
       "    </tr>\n",
       "  </tbody>\n",
       "</table>\n",
       "<p>1 rows × 338 columns</p>\n",
       "</div>"
      ],
      "text/plain": [
       "Captain_ID   Captain 1  Captain 10  Captain 100  Captain 101  Captain 102  \\\n",
       "Ride_Status        125         281          409          234           57   \n",
       "\n",
       "Captain_ID   Captain 103  Captain 104  Captain 105  Captain 106  Captain 107  \\\n",
       "Ride_Status           57           46          143           52           54   \n",
       "\n",
       "Captain_ID   Captain 108  Captain 109  Captain 11  Captain 110  Captain 111  \\\n",
       "Ride_Status          175           34         195           38           11   \n",
       "\n",
       "Captain_ID   Captain 112  Captain 113  Captain 114  Captain 115  Captain 116  \\\n",
       "Ride_Status           48           28           30           14           90   \n",
       "\n",
       "Captain_ID   Captain 117  Captain 118  Captain 119  Captain 12  Captain 120  \\\n",
       "Ride_Status          399           50          180         162           51   \n",
       "\n",
       "Captain_ID   Captain 121  Captain 122  Captain 123  Captain 124  Captain 125  \\\n",
       "Ride_Status           55           53           54           52          119   \n",
       "\n",
       "Captain_ID   Captain 126  Captain 127  Captain 128  Captain 129  Captain 13  \\\n",
       "Ride_Status            8          169           84           21         146   \n",
       "\n",
       "Captain_ID   Captain 130  Captain 131  Captain 132  Captain 133  Captain 134  \\\n",
       "Ride_Status          132          142           44          119          136   \n",
       "\n",
       "Captain_ID   Captain 135  Captain 136  Captain 137  Captain 138  Captain 139  \\\n",
       "Ride_Status           97          132           31           34          115   \n",
       "\n",
       "Captain_ID   Captain 14  Captain 140  Captain 141  Captain 142  Captain 143  \\\n",
       "Ride_Status         211          128           74          140          108   \n",
       "\n",
       "Captain_ID   ...  Captain 54  Captain 55  Captain 56  Captain 57  Captain 58  \\\n",
       "Ride_Status  ...          17         173         189           7         131   \n",
       "\n",
       "Captain_ID   Captain 59  Captain 6  Captain 60  Captain 61  Captain 62  \\\n",
       "Ride_Status          94        381          98          99          11   \n",
       "\n",
       "Captain_ID   Captain 63  Captain 64  Captain 65  Captain 66  Captain 67  \\\n",
       "Ride_Status         128         152          86         166          15   \n",
       "\n",
       "Captain_ID   Captain 68  Captain 69  Captain 7  Captain 70  Captain 71  \\\n",
       "Ride_Status          75         111        232          31          43   \n",
       "\n",
       "Captain_ID   Captain 72  Captain 73  Captain 74  Captain 75  Captain 76  \\\n",
       "Ride_Status          44          42         152         231         173   \n",
       "\n",
       "Captain_ID   Captain 77  Captain 78  Captain 79  Captain 8  Captain 80  \\\n",
       "Ride_Status         273          88          54         19          88   \n",
       "\n",
       "Captain_ID   Captain 81  Captain 82  Captain 83  Captain 84  Captain 85  \\\n",
       "Ride_Status          71          67          74          39          39   \n",
       "\n",
       "Captain_ID   Captain 86  Captain 87  Captain 88  Captain 89  Captain 9  \\\n",
       "Ride_Status          33          90          52          38        348   \n",
       "\n",
       "Captain_ID   Captain 90  Captain 91  Captain 92  Captain 93  Captain 94  \\\n",
       "Ride_Status         220          90          89         184         344   \n",
       "\n",
       "Captain_ID   Captain 95  Captain 96  Captain 97  Captain 98  Captain 99  \n",
       "Ride_Status         209         333         274          55         201  \n",
       "\n",
       "[1 rows x 338 columns]"
      ]
     },
     "metadata": {},
     "output_type": "display_data"
    },
    {
     "data": {
      "text/html": [
       "<div>\n",
       "<style scoped>\n",
       "    .dataframe tbody tr th:only-of-type {\n",
       "        vertical-align: middle;\n",
       "    }\n",
       "\n",
       "    .dataframe tbody tr th {\n",
       "        vertical-align: top;\n",
       "    }\n",
       "\n",
       "    .dataframe thead th {\n",
       "        text-align: right;\n",
       "    }\n",
       "</style>\n",
       "<table border=\"1\" class=\"dataframe\">\n",
       "  <thead>\n",
       "    <tr style=\"text-align: right;\">\n",
       "      <th>Captain_ID</th>\n",
       "      <th>Captain 1</th>\n",
       "      <th>Captain 10</th>\n",
       "      <th>Captain 100</th>\n",
       "      <th>Captain 101</th>\n",
       "      <th>Captain 104</th>\n",
       "      <th>Captain 105</th>\n",
       "      <th>Captain 107</th>\n",
       "      <th>Captain 108</th>\n",
       "      <th>Captain 11</th>\n",
       "      <th>Captain 110</th>\n",
       "      <th>Captain 111</th>\n",
       "      <th>Captain 112</th>\n",
       "      <th>Captain 113</th>\n",
       "      <th>Captain 114</th>\n",
       "      <th>Captain 116</th>\n",
       "      <th>Captain 117</th>\n",
       "      <th>Captain 118</th>\n",
       "      <th>Captain 119</th>\n",
       "      <th>Captain 12</th>\n",
       "      <th>Captain 120</th>\n",
       "      <th>Captain 122</th>\n",
       "      <th>Captain 125</th>\n",
       "      <th>Captain 127</th>\n",
       "      <th>Captain 128</th>\n",
       "      <th>Captain 129</th>\n",
       "      <th>Captain 13</th>\n",
       "      <th>Captain 130</th>\n",
       "      <th>Captain 131</th>\n",
       "      <th>Captain 132</th>\n",
       "      <th>Captain 133</th>\n",
       "      <th>Captain 134</th>\n",
       "      <th>Captain 135</th>\n",
       "      <th>Captain 136</th>\n",
       "      <th>Captain 137</th>\n",
       "      <th>Captain 138</th>\n",
       "      <th>Captain 139</th>\n",
       "      <th>Captain 14</th>\n",
       "      <th>Captain 140</th>\n",
       "      <th>Captain 142</th>\n",
       "      <th>Captain 143</th>\n",
       "      <th>Captain 144</th>\n",
       "      <th>Captain 145</th>\n",
       "      <th>Captain 146</th>\n",
       "      <th>Captain 147</th>\n",
       "      <th>Captain 148</th>\n",
       "      <th>Captain 15</th>\n",
       "      <th>Captain 150</th>\n",
       "      <th>Captain 151</th>\n",
       "      <th>Captain 153</th>\n",
       "      <th>Captain 154</th>\n",
       "      <th>...</th>\n",
       "      <th>Captain 50</th>\n",
       "      <th>Captain 51</th>\n",
       "      <th>Captain 52</th>\n",
       "      <th>Captain 53</th>\n",
       "      <th>Captain 55</th>\n",
       "      <th>Captain 56</th>\n",
       "      <th>Captain 58</th>\n",
       "      <th>Captain 59</th>\n",
       "      <th>Captain 6</th>\n",
       "      <th>Captain 60</th>\n",
       "      <th>Captain 61</th>\n",
       "      <th>Captain 62</th>\n",
       "      <th>Captain 63</th>\n",
       "      <th>Captain 64</th>\n",
       "      <th>Captain 65</th>\n",
       "      <th>Captain 66</th>\n",
       "      <th>Captain 68</th>\n",
       "      <th>Captain 69</th>\n",
       "      <th>Captain 7</th>\n",
       "      <th>Captain 70</th>\n",
       "      <th>Captain 71</th>\n",
       "      <th>Captain 72</th>\n",
       "      <th>Captain 73</th>\n",
       "      <th>Captain 74</th>\n",
       "      <th>Captain 75</th>\n",
       "      <th>Captain 76</th>\n",
       "      <th>Captain 77</th>\n",
       "      <th>Captain 78</th>\n",
       "      <th>Captain 79</th>\n",
       "      <th>Captain 80</th>\n",
       "      <th>Captain 81</th>\n",
       "      <th>Captain 82</th>\n",
       "      <th>Captain 83</th>\n",
       "      <th>Captain 84</th>\n",
       "      <th>Captain 85</th>\n",
       "      <th>Captain 86</th>\n",
       "      <th>Captain 87</th>\n",
       "      <th>Captain 88</th>\n",
       "      <th>Captain 89</th>\n",
       "      <th>Captain 9</th>\n",
       "      <th>Captain 90</th>\n",
       "      <th>Captain 91</th>\n",
       "      <th>Captain 92</th>\n",
       "      <th>Captain 93</th>\n",
       "      <th>Captain 94</th>\n",
       "      <th>Captain 95</th>\n",
       "      <th>Captain 96</th>\n",
       "      <th>Captain 97</th>\n",
       "      <th>Captain 98</th>\n",
       "      <th>Captain 99</th>\n",
       "    </tr>\n",
       "  </thead>\n",
       "  <tbody>\n",
       "    <tr>\n",
       "      <th>Ride_Status</th>\n",
       "      <td>3</td>\n",
       "      <td>3</td>\n",
       "      <td>24</td>\n",
       "      <td>28</td>\n",
       "      <td>4</td>\n",
       "      <td>11</td>\n",
       "      <td>1</td>\n",
       "      <td>6</td>\n",
       "      <td>7</td>\n",
       "      <td>16</td>\n",
       "      <td>18</td>\n",
       "      <td>12</td>\n",
       "      <td>4</td>\n",
       "      <td>7</td>\n",
       "      <td>14</td>\n",
       "      <td>10</td>\n",
       "      <td>5</td>\n",
       "      <td>11</td>\n",
       "      <td>4</td>\n",
       "      <td>3</td>\n",
       "      <td>1</td>\n",
       "      <td>20</td>\n",
       "      <td>70</td>\n",
       "      <td>25</td>\n",
       "      <td>6</td>\n",
       "      <td>25</td>\n",
       "      <td>13</td>\n",
       "      <td>5</td>\n",
       "      <td>3</td>\n",
       "      <td>12</td>\n",
       "      <td>10</td>\n",
       "      <td>13</td>\n",
       "      <td>13</td>\n",
       "      <td>4</td>\n",
       "      <td>17</td>\n",
       "      <td>4</td>\n",
       "      <td>22</td>\n",
       "      <td>16</td>\n",
       "      <td>4</td>\n",
       "      <td>31</td>\n",
       "      <td>2</td>\n",
       "      <td>8</td>\n",
       "      <td>2</td>\n",
       "      <td>14</td>\n",
       "      <td>19</td>\n",
       "      <td>1</td>\n",
       "      <td>5</td>\n",
       "      <td>2</td>\n",
       "      <td>13</td>\n",
       "      <td>2</td>\n",
       "      <td>...</td>\n",
       "      <td>9</td>\n",
       "      <td>11</td>\n",
       "      <td>4</td>\n",
       "      <td>11</td>\n",
       "      <td>21</td>\n",
       "      <td>18</td>\n",
       "      <td>3</td>\n",
       "      <td>5</td>\n",
       "      <td>10</td>\n",
       "      <td>2</td>\n",
       "      <td>11</td>\n",
       "      <td>31</td>\n",
       "      <td>6</td>\n",
       "      <td>24</td>\n",
       "      <td>8</td>\n",
       "      <td>37</td>\n",
       "      <td>5</td>\n",
       "      <td>22</td>\n",
       "      <td>5</td>\n",
       "      <td>22</td>\n",
       "      <td>10</td>\n",
       "      <td>9</td>\n",
       "      <td>11</td>\n",
       "      <td>12</td>\n",
       "      <td>45</td>\n",
       "      <td>35</td>\n",
       "      <td>55</td>\n",
       "      <td>12</td>\n",
       "      <td>6</td>\n",
       "      <td>12</td>\n",
       "      <td>16</td>\n",
       "      <td>2</td>\n",
       "      <td>12</td>\n",
       "      <td>7</td>\n",
       "      <td>7</td>\n",
       "      <td>6</td>\n",
       "      <td>8</td>\n",
       "      <td>8</td>\n",
       "      <td>16</td>\n",
       "      <td>3</td>\n",
       "      <td>46</td>\n",
       "      <td>17</td>\n",
       "      <td>8</td>\n",
       "      <td>14</td>\n",
       "      <td>6</td>\n",
       "      <td>27</td>\n",
       "      <td>2</td>\n",
       "      <td>16</td>\n",
       "      <td>3</td>\n",
       "      <td>5</td>\n",
       "    </tr>\n",
       "  </tbody>\n",
       "</table>\n",
       "<p>1 rows × 292 columns</p>\n",
       "</div>"
      ],
      "text/plain": [
       "Captain_ID   Captain 1  Captain 10  Captain 100  Captain 101  Captain 104  \\\n",
       "Ride_Status          3           3           24           28            4   \n",
       "\n",
       "Captain_ID   Captain 105  Captain 107  Captain 108  Captain 11  Captain 110  \\\n",
       "Ride_Status           11            1            6           7           16   \n",
       "\n",
       "Captain_ID   Captain 111  Captain 112  Captain 113  Captain 114  Captain 116  \\\n",
       "Ride_Status           18           12            4            7           14   \n",
       "\n",
       "Captain_ID   Captain 117  Captain 118  Captain 119  Captain 12  Captain 120  \\\n",
       "Ride_Status           10            5           11           4            3   \n",
       "\n",
       "Captain_ID   Captain 122  Captain 125  Captain 127  Captain 128  Captain 129  \\\n",
       "Ride_Status            1           20           70           25            6   \n",
       "\n",
       "Captain_ID   Captain 13  Captain 130  Captain 131  Captain 132  Captain 133  \\\n",
       "Ride_Status          25           13            5            3           12   \n",
       "\n",
       "Captain_ID   Captain 134  Captain 135  Captain 136  Captain 137  Captain 138  \\\n",
       "Ride_Status           10           13           13            4           17   \n",
       "\n",
       "Captain_ID   Captain 139  Captain 14  Captain 140  Captain 142  Captain 143  \\\n",
       "Ride_Status            4          22           16            4           31   \n",
       "\n",
       "Captain_ID   Captain 144  Captain 145  Captain 146  Captain 147  Captain 148  \\\n",
       "Ride_Status            2            8            2           14           19   \n",
       "\n",
       "Captain_ID   Captain 15  Captain 150  Captain 151  Captain 153  Captain 154  \\\n",
       "Ride_Status           1            5            2           13            2   \n",
       "\n",
       "Captain_ID   ...  Captain 50  Captain 51  Captain 52  Captain 53  Captain 55  \\\n",
       "Ride_Status  ...           9          11           4          11          21   \n",
       "\n",
       "Captain_ID   Captain 56  Captain 58  Captain 59  Captain 6  Captain 60  \\\n",
       "Ride_Status          18           3           5         10           2   \n",
       "\n",
       "Captain_ID   Captain 61  Captain 62  Captain 63  Captain 64  Captain 65  \\\n",
       "Ride_Status          11          31           6          24           8   \n",
       "\n",
       "Captain_ID   Captain 66  Captain 68  Captain 69  Captain 7  Captain 70  \\\n",
       "Ride_Status          37           5          22          5          22   \n",
       "\n",
       "Captain_ID   Captain 71  Captain 72  Captain 73  Captain 74  Captain 75  \\\n",
       "Ride_Status          10           9          11          12          45   \n",
       "\n",
       "Captain_ID   Captain 76  Captain 77  Captain 78  Captain 79  Captain 80  \\\n",
       "Ride_Status          35          55          12           6          12   \n",
       "\n",
       "Captain_ID   Captain 81  Captain 82  Captain 83  Captain 84  Captain 85  \\\n",
       "Ride_Status          16           2          12           7           7   \n",
       "\n",
       "Captain_ID   Captain 86  Captain 87  Captain 88  Captain 89  Captain 9  \\\n",
       "Ride_Status           6           8           8          16          3   \n",
       "\n",
       "Captain_ID   Captain 90  Captain 91  Captain 92  Captain 93  Captain 94  \\\n",
       "Ride_Status          46          17           8          14           6   \n",
       "\n",
       "Captain_ID   Captain 95  Captain 96  Captain 97  Captain 98  Captain 99  \n",
       "Ride_Status          27           2          16           3           5  \n",
       "\n",
       "[1 rows x 292 columns]"
      ]
     },
     "metadata": {},
     "output_type": "display_data"
    }
   ],
   "source": [
    "'''Number of completed and cancelled rides by captains'''\n",
    "Ride_completed = df[df['Ride_Status']==1].groupby(by=['Captain_ID'])[['Ride_Status']].count().T\n",
    "Ride_cancelled = df[df['Ride_Status']==0].groupby(by=['Captain_ID'])[['Ride_Status']].count().T\n",
    "\n",
    "captains = list(df['Captain_ID'].unique())\n",
    "print(f'There are {len(captains)} unique captains.')\n",
    "\n",
    "display(Ride_completed.head(), Ride_cancelled.head())"
   ]
  },
  {
   "cell_type": "code",
   "execution_count": 24,
   "id": "318aaf63",
   "metadata": {},
   "outputs": [
    {
     "data": {
      "text/html": [
       "<div>\n",
       "<style scoped>\n",
       "    .dataframe tbody tr th:only-of-type {\n",
       "        vertical-align: middle;\n",
       "    }\n",
       "\n",
       "    .dataframe tbody tr th {\n",
       "        vertical-align: top;\n",
       "    }\n",
       "\n",
       "    .dataframe thead th {\n",
       "        text-align: right;\n",
       "    }\n",
       "</style>\n",
       "<table border=\"1\" class=\"dataframe\">\n",
       "  <thead>\n",
       "    <tr style=\"text-align: right;\">\n",
       "      <th></th>\n",
       "      <th>NetRides</th>\n",
       "      <th>TotalRides</th>\n",
       "    </tr>\n",
       "    <tr>\n",
       "      <th>Captain_ID</th>\n",
       "      <th></th>\n",
       "      <th></th>\n",
       "    </tr>\n",
       "  </thead>\n",
       "  <tbody>\n",
       "    <tr>\n",
       "      <th>Captain 358</th>\n",
       "      <td>-1.0</td>\n",
       "      <td>1.0</td>\n",
       "    </tr>\n",
       "    <tr>\n",
       "      <th>Captain 352</th>\n",
       "      <td>-1.0</td>\n",
       "      <td>1.0</td>\n",
       "    </tr>\n",
       "    <tr>\n",
       "      <th>Captain 356</th>\n",
       "      <td>1.0</td>\n",
       "      <td>1.0</td>\n",
       "    </tr>\n",
       "    <tr>\n",
       "      <th>Captain 317</th>\n",
       "      <td>-1.0</td>\n",
       "      <td>1.0</td>\n",
       "    </tr>\n",
       "    <tr>\n",
       "      <th>Captain 355</th>\n",
       "      <td>1.0</td>\n",
       "      <td>1.0</td>\n",
       "    </tr>\n",
       "  </tbody>\n",
       "</table>\n",
       "</div>"
      ],
      "text/plain": [
       "             NetRides  TotalRides\n",
       "Captain_ID                       \n",
       "Captain 358      -1.0         1.0\n",
       "Captain 352      -1.0         1.0\n",
       "Captain 356       1.0         1.0\n",
       "Captain 317      -1.0         1.0\n",
       "Captain 355       1.0         1.0"
      ]
     },
     "execution_count": 24,
     "metadata": {},
     "output_type": "execute_result"
    }
   ],
   "source": [
    "x = pd.concat([Ride_completed, Ride_cancelled]).T\n",
    "x.columns = ['completed_ride', 'cancelled_ride']\n",
    "x = x.replace(np.nan, 0)  # Null-value indicate that the captain with zero cancelled/completed rides.\n",
    "\n",
    "NetRides = x['completed_ride'] - x['cancelled_ride']\n",
    "TotalRides = x['completed_ride'] + x['cancelled_ride']\n",
    "Captain_value = pd.concat([NetRides,TotalRides], axis=1)\n",
    "Captain_value = Captain_value.rename(columns={0:'NetRides', 1:'TotalRides'}).sort_values(by='TotalRides')\n",
    "Captain_value.head()"
   ]
  },
  {
   "cell_type": "code",
   "execution_count": 25,
   "id": "f3f221b2",
   "metadata": {
    "scrolled": false
   },
   "outputs": [
    {
     "name": "stdout",
     "output_type": "stream",
     "text": [
      "Captains are -\n"
     ]
    },
    {
     "data": {
      "text/plain": [
       "['Captain 358',\n",
       " 'Captain 352',\n",
       " 'Captain 356',\n",
       " 'Captain 317',\n",
       " 'Captain 355',\n",
       " 'Captain 350',\n",
       " 'Captain 334',\n",
       " 'Captain 357',\n",
       " 'Captain 345',\n",
       " 'Captain 298',\n",
       " 'Captain 339',\n",
       " 'Captain 349',\n",
       " 'Captain 354',\n",
       " 'Captain 342',\n",
       " 'Captain 353',\n",
       " 'Captain 340',\n",
       " 'Captain 173',\n",
       " 'Captain 288',\n",
       " 'Captain 236',\n",
       " 'Captain 327',\n",
       " 'Captain 344',\n",
       " 'Captain 335',\n",
       " 'Captain 347',\n",
       " 'Captain 329',\n",
       " 'Captain 326',\n",
       " 'Captain 57',\n",
       " 'Captain 126',\n",
       " 'Captain 325',\n",
       " 'Captain 312',\n",
       " 'Captain 303']"
      ]
     },
     "execution_count": 25,
     "metadata": {},
     "output_type": "execute_result"
    }
   ],
   "source": [
    "'''Sucessful captains - They are the one who makes good revenue to our company.'''\n",
    "# print('Top 30 Captains -')\n",
    "# display(Captain_value.head(30).T)\n",
    "\n",
    "print('Captains are -')\n",
    "Captain_value.head(30).index.to_list()"
   ]
  },
  {
   "cell_type": "code",
   "execution_count": 26,
   "id": "10396707",
   "metadata": {},
   "outputs": [
    {
     "name": "stdout",
     "output_type": "stream",
     "text": [
      "No. of such captains = 35\n",
      "Captains are -\n"
     ]
    },
    {
     "data": {
      "text/plain": [
       "['Captain 330',\n",
       " 'Captain 351',\n",
       " 'Captain 259',\n",
       " 'Captain 299',\n",
       " 'Captain 324',\n",
       " 'Captain 250',\n",
       " 'Captain 304',\n",
       " 'Captain 249',\n",
       " 'Captain 318',\n",
       " 'Captain 346',\n",
       " 'Captain 248',\n",
       " 'Captain 319',\n",
       " 'Captain 258',\n",
       " 'Captain 254',\n",
       " 'Captain 261',\n",
       " 'Captain 301',\n",
       " 'Captain 297',\n",
       " 'Captain 255',\n",
       " 'Captain 300',\n",
       " 'Captain 244',\n",
       " 'Captain 296',\n",
       " 'Captain 307',\n",
       " 'Captain 256',\n",
       " 'Captain 337',\n",
       " 'Captain 287',\n",
       " 'Captain 111',\n",
       " 'Captain 320',\n",
       " 'Captain 62',\n",
       " 'Captain 190',\n",
       " 'Captain 206',\n",
       " 'Captain 228',\n",
       " 'Captain 225',\n",
       " 'Captain 260',\n",
       " 'Captain 257',\n",
       " 'Captain 247']"
      ]
     },
     "execution_count": 26,
     "metadata": {},
     "output_type": "execute_result"
    }
   ],
   "source": [
    "'''Need to note on Caption's behaviour in near future \n",
    "   Output, negative sign denotes that Captain\"s cancelled ride was more than sucessful ride. We need to \n",
    "   make a  note of those captain\"s value/behaviour in near future. Excluding new join/whose total rides is less than 10.'''\n",
    "x = Captain_value[(Captain_value['NetRides']<=0) & (Captain_value['TotalRides']>=10)]\n",
    "print('No. of such captains =',x.shape[0])\n",
    "print('Captains are -')\n",
    "x.index.to_list()"
   ]
  },
  {
   "cell_type": "code",
   "execution_count": 27,
   "id": "d71da906",
   "metadata": {},
   "outputs": [],
   "source": [
    "'''Potential Agent - The one who makes most successfull ride status'''\n",
    "def Potential_agent(week):\n",
    "        success_ride = df[df['Ride_Status'] == 1]\n",
    "        Top3 = success_ride[success_ride['Week_Num'] == week].groupby(by='Calling Agent')['Ride_Status'].count()\n",
    "        Top3.sort_values(ascending=False, inplace=True)\n",
    "        \n",
    "        Top3_agent =  Top3.head(3).index.to_list()   #list of top3 agents\n",
    "        Top3_ride = Top3.head(3).values              #list of total rides of top3 agents\n",
    "        return dict(zip(Top3_agent,Top3_ride))"
   ]
  },
  {
   "cell_type": "code",
   "execution_count": 28,
   "id": "2cb6750e",
   "metadata": {},
   "outputs": [],
   "source": [
    "weeks = list(df['Week_Num'].unique())\n",
    "agents = [Potential_agent(w) for w in weeks]\n",
    "potential_agents = dict(zip(weeks, agents))\n",
    "potential_agents = [{'week'+key : value} for (key, value) in sorted(potential_agents.items(), key=lambda x: x[0])] #sort"
   ]
  },
  {
   "cell_type": "code",
   "execution_count": 29,
   "id": "7ba7582c",
   "metadata": {},
   "outputs": [
    {
     "data": {
      "text/plain": [
       "[{'week1': {'Agent 1': 236, 'Agent 3': 226, 'Agent 2': 225}},\n",
       " {'week2': {'Agent 4': 610, 'Agent 5': 610, 'Agent 1': 585}},\n",
       " {'week3': {'Agent 3': 620, 'Agent 5': 601, 'Agent 4': 595}},\n",
       " {'week4': {'Agent 2': 308, 'Agent 5': 293, 'Agent 1': 289}},\n",
       " {'week5': {'Agent 7': 519, 'Agent 6': 510, 'Agent 5': 492}},\n",
       " {'week6': {'Agent 7': 502, 'Agent 5': 497, 'Agent 8': 483}},\n",
       " {'week7': {'Agent 7': 551, 'Agent 8': 546, 'Agent 5': 545}},\n",
       " {'week8': {'Agent 7': 320, 'Agent 3': 319, 'Agent 2': 309}},\n",
       " {'week9': {'Agent 2': 529, 'Agent 4': 513, 'Agent 8': 513}}]"
      ]
     },
     "execution_count": 29,
     "metadata": {},
     "output_type": "execute_result"
    }
   ],
   "source": [
    "potential_agents  #9 weeks record"
   ]
  },
  {
   "cell_type": "code",
   "execution_count": 30,
   "id": "bdd4d21c",
   "metadata": {
    "scrolled": false
   },
   "outputs": [
    {
     "data": {
      "text/plain": [
       "Ride_Confirmation_Status  Vertical\n",
       "Agent                     business    36.062967\n",
       "                          regular     43.206751\n",
       "                          training     0.022720\n",
       "                          travel       1.428108\n",
       "Captain thru App          business    18.104512\n",
       "                          custom       0.006491\n",
       "                          regular      0.334307\n",
       "                          training     0.003246\n",
       "                          travel       0.830899\n",
       "dtype: float64"
      ]
     },
     "execution_count": 30,
     "metadata": {},
     "output_type": "execute_result"
    }
   ],
   "source": [
    "'''Percentage of customers using App/Agent for booking across various customers across the globe'''\n",
    "\n",
    "(df[['Ride_Confirmation_Status', 'Vertical']].value_counts(normalize=True)*100).sort_index()"
   ]
  },
  {
   "cell_type": "markdown",
   "id": "e8bbd24b",
   "metadata": {},
   "source": [
    "<b>Inference:</b>\n",
    "\n",
    "            * Nearly 45% \"Regular\" and 36% \"Business\" type customers using our service. \n",
    "              We should make them aware of Captain app to the customers."
   ]
  },
  {
   "cell_type": "code",
   "execution_count": 31,
   "id": "0a7b4aeb",
   "metadata": {},
   "outputs": [],
   "source": [
    "def Percent(plot, feature):\n",
    "    total = len(feature)\n",
    "    for p in ax.patches:\n",
    "        percentage = '{:.1f}%'.format(100 * p.get_height()/total)\n",
    "        x = p.get_x() + p.get_width() / 2 - 0.15\n",
    "        y = p.get_y() + p.get_height()\n",
    "        ax.annotate(percentage, (x, y), size = 12)\n",
    "    plt.show()"
   ]
  },
  {
   "cell_type": "code",
   "execution_count": 32,
   "id": "87458282",
   "metadata": {},
   "outputs": [
    {
     "data": {
      "image/png": "[encoded data removed]",
      "text/plain": [
       "<Figure size 432x288 with 1 Axes>"
      ]
     },
     "metadata": {
      "needs_background": "light"
     },
     "output_type": "display_data"
    }
   ],
   "source": [
    "'''Ride status across various cities'''\n",
    "ax = pd.crosstab(df['City_Name'], df['Weekend']).plot(kind='bar')\n",
    "Percent(ax,df['City_Name'])\n",
    "plt.show()"
   ]
  },
  {
   "cell_type": "code",
   "execution_count": 33,
   "id": "bb2fa7d1",
   "metadata": {},
   "outputs": [
    {
     "data": {
      "image/png": "[encoded data removed]",
      "text/plain": [
       "<Figure size 432x288 with 1 Axes>"
      ]
     },
     "metadata": {
      "needs_background": "light"
     },
     "output_type": "display_data"
    }
   ],
   "source": [
    "'''Ride status in weekend'''\n",
    "ax = pd.crosstab(df['Ride_Status'], df['Weekend']).plot(kind='bar', stacked = True)\n",
    "Percent(ax,df['City_Name'])\n",
    "plt.show()"
   ]
  },
  {
   "cell_type": "markdown",
   "id": "cbc0fec7",
   "metadata": {},
   "source": [
    "<b>Inference : </b>\n",
    "    \n",
    "            * Business Professtional from Nottingham contribute a decent revenue.\n",
    "            * In weekends the dip in rides is about 45-50% in comparison to weekdays.\n",
    "            * In nutshell we can conclude that rides during weekdays(except: Tuesday & Wednesday) are high."
   ]
  }
 ],
 "metadata": {
  "kernelspec": {
   "display_name": "Python 3 (ipykernel)",
   "language": "python",
   "name": "python3"
  },
  "language_info": {
   "codemirror_mode": {
    "name": "ipython",
    "version": 3
   },
   "file_extension": ".py",
   "mimetype": "text/x-python",
   "name": "python",
   "nbconvert_exporter": "python",
   "pygments_lexer": "ipython3",
   "version": "3.8.11"
  }
 },
 "nbformat": 4,
 "nbformat_minor": 5
}
